{
  "nbformat": 4,
  "nbformat_minor": 0,
  "metadata": {
    "colab": {
      "provenance": [],
      "authorship_tag": "ABX9TyOqr2NBVZMsTF9YqoYX/BSG",
      "include_colab_link": true
    },
    "kernelspec": {
      "name": "python3",
      "display_name": "Python 3"
    },
    "language_info": {
      "name": "python"
    }
  },
  "cells": [
    {
      "cell_type": "markdown",
      "metadata": {
        "id": "view-in-github",
        "colab_type": "text"
      },
      "source": [
        "<a href=\"https://colab.research.google.com/github/Kollin123/dataframe-exercise/blob/main/exercises/Technical%20-%202.ipynb\" target=\"_parent\"><img src=\"https://colab.research.google.com/assets/colab-badge.svg\" alt=\"Open In Colab\"/></a>"
      ]
    },
    {
      "cell_type": "markdown",
      "source": [
        "# Numbers 1-3\n"
      ],
      "metadata": {
        "id": "_nVBI1PhpScm"
      }
    },
    {
      "cell_type": "markdown",
      "source": [
        "# Number 1"
      ],
      "metadata": {
        "id": "thY9RjrLptTa"
      }
    },
    {
      "cell_type": "code",
      "execution_count": 2,
      "metadata": {
        "colab": {
          "base_uri": "https://localhost:8080/"
        },
        "id": "QWXnPnm1oIDW",
        "outputId": "0933f21f-45e5-4f04-ded7-1ff4f99eb389"
      },
      "outputs": [
        {
          "output_type": "stream",
          "name": "stdout",
          "text": [
            "    OrderID     Product     Category  Quantity  Price Customer Region  Total\n",
            "0      1001      Laptop  Electronics         2    800    Alice  North   1600\n",
            "1      1002       Mouse  Accessories         5     20      Bob  South    100\n",
            "2      1003    Keyboard  Accessories         3     50  Charlie   East    150\n",
            "3      1004     Monitor  Electronics         4    200    Diana   West    800\n",
            "4      1005      Laptop  Electronics         1    850    Ethan  North    850\n",
            "5      1006  Headphones  Accessories         6     40    Fiona  South    240\n",
            "6      1007       Mouse  Accessories        10     25   George   East    250\n",
            "7      1008       Chair    Furniture         2    150   Hannah   West    300\n",
            "8      1009        Desk    Furniture         1    300      Ian  North    300\n",
            "9      1010      Laptop  Electronics         3    900     Jane  South   2700\n",
            "10     1011     Printer  Electronics         2    120     Kyle   East    240\n",
            "11     1012    Keyboard  Accessories         4     55    Laura   West    220\n",
            "12     1013     Monitor  Electronics         2    250     Mike  North    500\n",
            "13     1014       Mouse  Accessories         7     20     Nina  South    140\n",
            "14     1015      Laptop  Electronics         5    750    Oscar   East   3750\n",
            "15     1016  Headphones  Accessories         3     35     Paul   West    105\n",
            "16     1017        Desk    Furniture         2    280    Queen  North    560\n",
            "17     1018     Monitor  Electronics         4    220   Robert  South    880\n",
            "18     1019     Printer  Electronics         1    110    Sarah   East    110\n",
            "19     1020       Chair    Furniture         6    180      Tom   West   1080\n"
          ]
        }
      ],
      "source": [
        "#-------------------------------------------------1. Creating a DataFrame------------------------------------------------------\n",
        "\n",
        "# Step 1: Create DataFrame\n",
        "\n",
        "import pandas as pd\n",
        "\n",
        "# Sample sales dataset (20 rows)\n",
        "data = {\n",
        "    \"OrderID\": range(1001, 1021),\n",
        "    \"Product\": [\n",
        "        \"Laptop\", \"Mouse\", \"Keyboard\", \"Monitor\", \"Laptop\",\n",
        "        \"Headphones\", \"Mouse\", \"Chair\", \"Desk\", \"Laptop\",\n",
        "        \"Printer\", \"Keyboard\", \"Monitor\", \"Mouse\", \"Laptop\",\n",
        "        \"Headphones\", \"Desk\", \"Monitor\", \"Printer\", \"Chair\"\n",
        "    ],\n",
        "    \"Category\": [\n",
        "        \"Electronics\", \"Accessories\", \"Accessories\", \"Electronics\", \"Electronics\",\n",
        "        \"Accessories\", \"Accessories\", \"Furniture\", \"Furniture\", \"Electronics\",\n",
        "        \"Electronics\", \"Accessories\", \"Electronics\", \"Accessories\", \"Electronics\",\n",
        "        \"Accessories\", \"Furniture\", \"Electronics\", \"Electronics\", \"Furniture\"\n",
        "    ],\n",
        "    \"Quantity\": [2, 5, 3, 4, 1, 6, 10, 2, 1, 3, 2, 4, 2, 7, 5, 3, 2, 4, 1, 6],\n",
        "    \"Price\": [800, 20, 50, 200, 850, 40, 25, 150, 300, 900, 120, 55, 250, 20, 750, 35, 280, 220, 110, 180],\n",
        "    \"Customer\": [\n",
        "        \"Alice\", \"Bob\", \"Charlie\", \"Diana\", \"Ethan\",\n",
        "        \"Fiona\", \"George\", \"Hannah\", \"Ian\", \"Jane\",\n",
        "        \"Kyle\", \"Laura\", \"Mike\", \"Nina\", \"Oscar\",\n",
        "        \"Paul\", \"Queen\", \"Robert\", \"Sarah\", \"Tom\"\n",
        "    ],\n",
        "    \"Region\": [\n",
        "        \"North\", \"South\", \"East\", \"West\", \"North\",\n",
        "        \"South\", \"East\", \"West\", \"North\", \"South\",\n",
        "        \"East\", \"West\", \"North\", \"South\", \"East\",\n",
        "        \"West\", \"North\", \"South\", \"East\", \"West\"\n",
        "    ]\n",
        "}\n",
        "\n",
        "# Create DataFrame\n",
        "df = pd.DataFrame(data)\n",
        "\n",
        "# Compute Total column\n",
        "df[\"Total\"] = df[\"Quantity\"] * df[\"Price\"]\n",
        "\n",
        "print(df)\n"
      ]
    },
    {
      "cell_type": "code",
      "source": [
        "# Step 2: Show first 5 rows\n",
        "print(df.head(5))\n"
      ],
      "metadata": {
        "colab": {
          "base_uri": "https://localhost:8080/"
        },
        "id": "CrMGF_cEoZn3",
        "outputId": "56f34319-6a79-423b-bb02-036a775287af"
      },
      "execution_count": 3,
      "outputs": [
        {
          "output_type": "stream",
          "name": "stdout",
          "text": [
            "   OrderID   Product     Category  Quantity  Price Customer Region  Total\n",
            "0     1001    Laptop  Electronics         2    800    Alice  North   1600\n",
            "1     1002     Mouse  Accessories         5     20      Bob  South    100\n",
            "2     1003  Keyboard  Accessories         3     50  Charlie   East    150\n",
            "3     1004   Monitor  Electronics         4    200    Diana   West    800\n",
            "4     1005    Laptop  Electronics         1    850    Ethan  North    850\n"
          ]
        }
      ]
    },
    {
      "cell_type": "code",
      "source": [
        "# Step 3: Print DataFrame shape\n",
        "print(\"Shape:\", df.shape)"
      ],
      "metadata": {
        "colab": {
          "base_uri": "https://localhost:8080/"
        },
        "id": "IRMyXHOXp33m",
        "outputId": "508026ed-5a58-49a9-a6ce-dec459ea699b"
      },
      "execution_count": 4,
      "outputs": [
        {
          "output_type": "stream",
          "name": "stdout",
          "text": [
            "Shape: (20, 8)\n"
          ]
        }
      ]
    },
    {
      "cell_type": "code",
      "source": [
        "# Step 4: Show column names\n",
        "print(\"Columns:\", df.columns)\n"
      ],
      "metadata": {
        "colab": {
          "base_uri": "https://localhost:8080/"
        },
        "id": "9J9163Vqsbf6",
        "outputId": "99e52147-8aa8-44fb-ce2b-cccfafb7c702"
      },
      "execution_count": 5,
      "outputs": [
        {
          "output_type": "stream",
          "name": "stdout",
          "text": [
            "Columns: Index(['OrderID', 'Product', 'Category', 'Quantity', 'Price', 'Customer',\n",
            "       'Region', 'Total'],\n",
            "      dtype='object')\n"
          ]
        }
      ]
    },
    {
      "cell_type": "code",
      "source": [
        "#•\tPrint the number of rows and columns:\n",
        "\n",
        "print(f\"Rows: {df.shape[0]}\")\n",
        "print(f\"Columns: {df.shape[1]}\")\n",
        "\n",
        "print(df)"
      ],
      "metadata": {
        "colab": {
          "base_uri": "https://localhost:8080/"
        },
        "id": "35xxwgCJuM_x",
        "outputId": "9a368bb1-9bc0-4ef0-db03-cb4a53b8cebb"
      },
      "execution_count": 6,
      "outputs": [
        {
          "output_type": "stream",
          "name": "stdout",
          "text": [
            "Rows: 20\n",
            "Columns: 8\n",
            "    OrderID     Product     Category  Quantity  Price Customer Region  Total\n",
            "0      1001      Laptop  Electronics         2    800    Alice  North   1600\n",
            "1      1002       Mouse  Accessories         5     20      Bob  South    100\n",
            "2      1003    Keyboard  Accessories         3     50  Charlie   East    150\n",
            "3      1004     Monitor  Electronics         4    200    Diana   West    800\n",
            "4      1005      Laptop  Electronics         1    850    Ethan  North    850\n",
            "5      1006  Headphones  Accessories         6     40    Fiona  South    240\n",
            "6      1007       Mouse  Accessories        10     25   George   East    250\n",
            "7      1008       Chair    Furniture         2    150   Hannah   West    300\n",
            "8      1009        Desk    Furniture         1    300      Ian  North    300\n",
            "9      1010      Laptop  Electronics         3    900     Jane  South   2700\n",
            "10     1011     Printer  Electronics         2    120     Kyle   East    240\n",
            "11     1012    Keyboard  Accessories         4     55    Laura   West    220\n",
            "12     1013     Monitor  Electronics         2    250     Mike  North    500\n",
            "13     1014       Mouse  Accessories         7     20     Nina  South    140\n",
            "14     1015      Laptop  Electronics         5    750    Oscar   East   3750\n",
            "15     1016  Headphones  Accessories         3     35     Paul   West    105\n",
            "16     1017        Desk    Furniture         2    280    Queen  North    560\n",
            "17     1018     Monitor  Electronics         4    220   Robert  South    880\n",
            "18     1019     Printer  Electronics         1    110    Sarah   East    110\n",
            "19     1020       Chair    Furniture         6    180      Tom   West   1080\n"
          ]
        }
      ]
    },
    {
      "cell_type": "code",
      "source": [
        "#•\tShow the column names.\n",
        "print(df.columns.tolist())\n"
      ],
      "metadata": {
        "colab": {
          "base_uri": "https://localhost:8080/"
        },
        "id": "hAgqDecxu37x",
        "outputId": "f59dae98-ed76-494b-c96b-aaa20d3655a6"
      },
      "execution_count": 7,
      "outputs": [
        {
          "output_type": "stream",
          "name": "stdout",
          "text": [
            "['OrderID', 'Product', 'Category', 'Quantity', 'Price', 'Customer', 'Region', 'Total']\n"
          ]
        }
      ]
    },
    {
      "cell_type": "markdown",
      "source": [
        "# Number 2\n"
      ],
      "metadata": {
        "id": "VhLoBBwtpplc"
      }
    },
    {
      "cell_type": "code",
      "source": [
        "# Step 1: Add Discount column (10% if Quantity >= 5 else 0)\n",
        "df['Discount'] = df['Quantity'].apply(lambda x: 0.10 if x >= 5 else 0)\n",
        "print(df)\n",
        "\n",
        "\n",
        "#df = df.drop('Discount', axis=1)"
      ],
      "metadata": {
        "colab": {
          "base_uri": "https://localhost:8080/"
        },
        "id": "dF5L9cONvNKQ",
        "outputId": "0a7d8df3-f8f9-45ec-fa4a-216a5f696a2c"
      },
      "execution_count": 8,
      "outputs": [
        {
          "output_type": "stream",
          "name": "stdout",
          "text": [
            "    OrderID     Product     Category  Quantity  Price Customer Region  Total  \\\n",
            "0      1001      Laptop  Electronics         2    800    Alice  North   1600   \n",
            "1      1002       Mouse  Accessories         5     20      Bob  South    100   \n",
            "2      1003    Keyboard  Accessories         3     50  Charlie   East    150   \n",
            "3      1004     Monitor  Electronics         4    200    Diana   West    800   \n",
            "4      1005      Laptop  Electronics         1    850    Ethan  North    850   \n",
            "5      1006  Headphones  Accessories         6     40    Fiona  South    240   \n",
            "6      1007       Mouse  Accessories        10     25   George   East    250   \n",
            "7      1008       Chair    Furniture         2    150   Hannah   West    300   \n",
            "8      1009        Desk    Furniture         1    300      Ian  North    300   \n",
            "9      1010      Laptop  Electronics         3    900     Jane  South   2700   \n",
            "10     1011     Printer  Electronics         2    120     Kyle   East    240   \n",
            "11     1012    Keyboard  Accessories         4     55    Laura   West    220   \n",
            "12     1013     Monitor  Electronics         2    250     Mike  North    500   \n",
            "13     1014       Mouse  Accessories         7     20     Nina  South    140   \n",
            "14     1015      Laptop  Electronics         5    750    Oscar   East   3750   \n",
            "15     1016  Headphones  Accessories         3     35     Paul   West    105   \n",
            "16     1017        Desk    Furniture         2    280    Queen  North    560   \n",
            "17     1018     Monitor  Electronics         4    220   Robert  South    880   \n",
            "18     1019     Printer  Electronics         1    110    Sarah   East    110   \n",
            "19     1020       Chair    Furniture         6    180      Tom   West   1080   \n",
            "\n",
            "    Discount  \n",
            "0        0.0  \n",
            "1        0.1  \n",
            "2        0.0  \n",
            "3        0.0  \n",
            "4        0.0  \n",
            "5        0.1  \n",
            "6        0.1  \n",
            "7        0.0  \n",
            "8        0.0  \n",
            "9        0.0  \n",
            "10       0.0  \n",
            "11       0.0  \n",
            "12       0.0  \n",
            "13       0.1  \n",
            "14       0.1  \n",
            "15       0.0  \n",
            "16       0.0  \n",
            "17       0.0  \n",
            "18       0.0  \n",
            "19       0.1  \n"
          ]
        }
      ]
    },
    {
      "cell_type": "code",
      "source": [
        "# Step 2: Add FinalTotal column (Total - discount)\n",
        "\n",
        "df['FinalTotal'] = df['Total'] - (df['Total'] * df['Discount'])\n",
        "print(df)"
      ],
      "metadata": {
        "colab": {
          "base_uri": "https://localhost:8080/"
        },
        "id": "BFNlpOdSzEVU",
        "outputId": "fda1105d-a1c6-4694-9010-a6073b0a627b"
      },
      "execution_count": 9,
      "outputs": [
        {
          "output_type": "stream",
          "name": "stdout",
          "text": [
            "    OrderID     Product     Category  Quantity  Price Customer Region  Total  \\\n",
            "0      1001      Laptop  Electronics         2    800    Alice  North   1600   \n",
            "1      1002       Mouse  Accessories         5     20      Bob  South    100   \n",
            "2      1003    Keyboard  Accessories         3     50  Charlie   East    150   \n",
            "3      1004     Monitor  Electronics         4    200    Diana   West    800   \n",
            "4      1005      Laptop  Electronics         1    850    Ethan  North    850   \n",
            "5      1006  Headphones  Accessories         6     40    Fiona  South    240   \n",
            "6      1007       Mouse  Accessories        10     25   George   East    250   \n",
            "7      1008       Chair    Furniture         2    150   Hannah   West    300   \n",
            "8      1009        Desk    Furniture         1    300      Ian  North    300   \n",
            "9      1010      Laptop  Electronics         3    900     Jane  South   2700   \n",
            "10     1011     Printer  Electronics         2    120     Kyle   East    240   \n",
            "11     1012    Keyboard  Accessories         4     55    Laura   West    220   \n",
            "12     1013     Monitor  Electronics         2    250     Mike  North    500   \n",
            "13     1014       Mouse  Accessories         7     20     Nina  South    140   \n",
            "14     1015      Laptop  Electronics         5    750    Oscar   East   3750   \n",
            "15     1016  Headphones  Accessories         3     35     Paul   West    105   \n",
            "16     1017        Desk    Furniture         2    280    Queen  North    560   \n",
            "17     1018     Monitor  Electronics         4    220   Robert  South    880   \n",
            "18     1019     Printer  Electronics         1    110    Sarah   East    110   \n",
            "19     1020       Chair    Furniture         6    180      Tom   West   1080   \n",
            "\n",
            "    Discount  FinalTotal  \n",
            "0        0.0      1600.0  \n",
            "1        0.1        90.0  \n",
            "2        0.0       150.0  \n",
            "3        0.0       800.0  \n",
            "4        0.0       850.0  \n",
            "5        0.1       216.0  \n",
            "6        0.1       225.0  \n",
            "7        0.0       300.0  \n",
            "8        0.0       300.0  \n",
            "9        0.0      2700.0  \n",
            "10       0.0       240.0  \n",
            "11       0.0       220.0  \n",
            "12       0.0       500.0  \n",
            "13       0.1       126.0  \n",
            "14       0.1      3375.0  \n",
            "15       0.0       105.0  \n",
            "16       0.0       560.0  \n",
            "17       0.0       880.0  \n",
            "18       0.0       110.0  \n",
            "19       0.1       972.0  \n"
          ]
        }
      ]
    },
    {
      "cell_type": "code",
      "source": [
        "# Print only the OrderID, Product, Total, Discount, and FinalTotal columns.\n",
        "print(df[['OrderID', 'Product', 'Total', 'Discount', 'FinalTotal']])"
      ],
      "metadata": {
        "colab": {
          "base_uri": "https://localhost:8080/"
        },
        "id": "sYNJQu6SqKfD",
        "outputId": "d340130e-3f3a-484a-d89b-a26cd5e9848f"
      },
      "execution_count": 10,
      "outputs": [
        {
          "output_type": "stream",
          "name": "stdout",
          "text": [
            "    OrderID     Product  Total  Discount  FinalTotal\n",
            "0      1001      Laptop   1600       0.0      1600.0\n",
            "1      1002       Mouse    100       0.1        90.0\n",
            "2      1003    Keyboard    150       0.0       150.0\n",
            "3      1004     Monitor    800       0.0       800.0\n",
            "4      1005      Laptop    850       0.0       850.0\n",
            "5      1006  Headphones    240       0.1       216.0\n",
            "6      1007       Mouse    250       0.1       225.0\n",
            "7      1008       Chair    300       0.0       300.0\n",
            "8      1009        Desk    300       0.0       300.0\n",
            "9      1010      Laptop   2700       0.0      2700.0\n",
            "10     1011     Printer    240       0.0       240.0\n",
            "11     1012    Keyboard    220       0.0       220.0\n",
            "12     1013     Monitor    500       0.0       500.0\n",
            "13     1014       Mouse    140       0.1       126.0\n",
            "14     1015      Laptop   3750       0.1      3375.0\n",
            "15     1016  Headphones    105       0.0       105.0\n",
            "16     1017        Desk    560       0.0       560.0\n",
            "17     1018     Monitor    880       0.0       880.0\n",
            "18     1019     Printer    110       0.0       110.0\n",
            "19     1020       Chair   1080       0.1       972.0\n"
          ]
        }
      ]
    },
    {
      "cell_type": "markdown",
      "source": [
        "# Number 3\n"
      ],
      "metadata": {
        "id": "g2KGRIcKr-qa"
      }
    },
    {
      "cell_type": "code",
      "source": [
        "# Step 1: Create new record\n",
        "\n",
        "new_row = {\n",
        "    \"OrderID\": 1021,\n",
        "    \"Product\": \"Tablet\",\n",
        "    \"Category\": \"Electronics\",\n",
        "    \"Quantity\": 2,\n",
        "    \"Price\": 450,\n",
        "    \"Customer\": \"Victor\",\n",
        "    \"Region\": \"East\"\n",
        "}\n",
        "\n",
        "print(new_row)"
      ],
      "metadata": {
        "colab": {
          "base_uri": "https://localhost:8080/"
        },
        "id": "i4DnAaFysAOa",
        "outputId": "6a69c2b5-0fde-4ebe-ba1c-b391bd2acb5d"
      },
      "execution_count": 11,
      "outputs": [
        {
          "output_type": "stream",
          "name": "stdout",
          "text": [
            "{'OrderID': 1021, 'Product': 'Tablet', 'Category': 'Electronics', 'Quantity': 2, 'Price': 450, 'Customer': 'Victor', 'Region': 'East'}\n"
          ]
        }
      ]
    },
    {
      "cell_type": "code",
      "source": [
        "# Step 2: Append to DataFrame\n",
        "df = pd.concat([df, pd.DataFrame([new_row])], ignore_index=True)\n",
        "print(df)"
      ],
      "metadata": {
        "colab": {
          "base_uri": "https://localhost:8080/"
        },
        "id": "KFNjh90ascS5",
        "outputId": "dbc68e5c-9e7b-4d26-fde8-9c753c926428"
      },
      "execution_count": 12,
      "outputs": [
        {
          "output_type": "stream",
          "name": "stdout",
          "text": [
            "    OrderID     Product     Category  Quantity  Price Customer Region   Total  \\\n",
            "0      1001      Laptop  Electronics         2    800    Alice  North  1600.0   \n",
            "1      1002       Mouse  Accessories         5     20      Bob  South   100.0   \n",
            "2      1003    Keyboard  Accessories         3     50  Charlie   East   150.0   \n",
            "3      1004     Monitor  Electronics         4    200    Diana   West   800.0   \n",
            "4      1005      Laptop  Electronics         1    850    Ethan  North   850.0   \n",
            "5      1006  Headphones  Accessories         6     40    Fiona  South   240.0   \n",
            "6      1007       Mouse  Accessories        10     25   George   East   250.0   \n",
            "7      1008       Chair    Furniture         2    150   Hannah   West   300.0   \n",
            "8      1009        Desk    Furniture         1    300      Ian  North   300.0   \n",
            "9      1010      Laptop  Electronics         3    900     Jane  South  2700.0   \n",
            "10     1011     Printer  Electronics         2    120     Kyle   East   240.0   \n",
            "11     1012    Keyboard  Accessories         4     55    Laura   West   220.0   \n",
            "12     1013     Monitor  Electronics         2    250     Mike  North   500.0   \n",
            "13     1014       Mouse  Accessories         7     20     Nina  South   140.0   \n",
            "14     1015      Laptop  Electronics         5    750    Oscar   East  3750.0   \n",
            "15     1016  Headphones  Accessories         3     35     Paul   West   105.0   \n",
            "16     1017        Desk    Furniture         2    280    Queen  North   560.0   \n",
            "17     1018     Monitor  Electronics         4    220   Robert  South   880.0   \n",
            "18     1019     Printer  Electronics         1    110    Sarah   East   110.0   \n",
            "19     1020       Chair    Furniture         6    180      Tom   West  1080.0   \n",
            "20     1021      Tablet  Electronics         2    450   Victor   East     NaN   \n",
            "\n",
            "    Discount  FinalTotal  \n",
            "0        0.0      1600.0  \n",
            "1        0.1        90.0  \n",
            "2        0.0       150.0  \n",
            "3        0.0       800.0  \n",
            "4        0.0       850.0  \n",
            "5        0.1       216.0  \n",
            "6        0.1       225.0  \n",
            "7        0.0       300.0  \n",
            "8        0.0       300.0  \n",
            "9        0.0      2700.0  \n",
            "10       0.0       240.0  \n",
            "11       0.0       220.0  \n",
            "12       0.0       500.0  \n",
            "13       0.1       126.0  \n",
            "14       0.1      3375.0  \n",
            "15       0.0       105.0  \n",
            "16       0.0       560.0  \n",
            "17       0.0       880.0  \n",
            "18       0.0       110.0  \n",
            "19       0.1       972.0  \n",
            "20       NaN         NaN  \n"
          ]
        }
      ]
    },
    {
      "cell_type": "code",
      "source": [
        "# Step 3: Recalculate Total\n",
        "df[\"Total\"] = df[\"Quantity\"] * df[\"Price\"]\n",
        "print(df)"
      ],
      "metadata": {
        "colab": {
          "base_uri": "https://localhost:8080/"
        },
        "id": "qIG-MZiN1S9b",
        "outputId": "3e9e9973-3379-4621-a946-5d83ac9dbd69"
      },
      "execution_count": 13,
      "outputs": [
        {
          "output_type": "stream",
          "name": "stdout",
          "text": [
            "    OrderID     Product     Category  Quantity  Price Customer Region  Total  \\\n",
            "0      1001      Laptop  Electronics         2    800    Alice  North   1600   \n",
            "1      1002       Mouse  Accessories         5     20      Bob  South    100   \n",
            "2      1003    Keyboard  Accessories         3     50  Charlie   East    150   \n",
            "3      1004     Monitor  Electronics         4    200    Diana   West    800   \n",
            "4      1005      Laptop  Electronics         1    850    Ethan  North    850   \n",
            "5      1006  Headphones  Accessories         6     40    Fiona  South    240   \n",
            "6      1007       Mouse  Accessories        10     25   George   East    250   \n",
            "7      1008       Chair    Furniture         2    150   Hannah   West    300   \n",
            "8      1009        Desk    Furniture         1    300      Ian  North    300   \n",
            "9      1010      Laptop  Electronics         3    900     Jane  South   2700   \n",
            "10     1011     Printer  Electronics         2    120     Kyle   East    240   \n",
            "11     1012    Keyboard  Accessories         4     55    Laura   West    220   \n",
            "12     1013     Monitor  Electronics         2    250     Mike  North    500   \n",
            "13     1014       Mouse  Accessories         7     20     Nina  South    140   \n",
            "14     1015      Laptop  Electronics         5    750    Oscar   East   3750   \n",
            "15     1016  Headphones  Accessories         3     35     Paul   West    105   \n",
            "16     1017        Desk    Furniture         2    280    Queen  North    560   \n",
            "17     1018     Monitor  Electronics         4    220   Robert  South    880   \n",
            "18     1019     Printer  Electronics         1    110    Sarah   East    110   \n",
            "19     1020       Chair    Furniture         6    180      Tom   West   1080   \n",
            "20     1021      Tablet  Electronics         2    450   Victor   East    900   \n",
            "\n",
            "    Discount  FinalTotal  \n",
            "0        0.0      1600.0  \n",
            "1        0.1        90.0  \n",
            "2        0.0       150.0  \n",
            "3        0.0       800.0  \n",
            "4        0.0       850.0  \n",
            "5        0.1       216.0  \n",
            "6        0.1       225.0  \n",
            "7        0.0       300.0  \n",
            "8        0.0       300.0  \n",
            "9        0.0      2700.0  \n",
            "10       0.0       240.0  \n",
            "11       0.0       220.0  \n",
            "12       0.0       500.0  \n",
            "13       0.1       126.0  \n",
            "14       0.1      3375.0  \n",
            "15       0.0       105.0  \n",
            "16       0.0       560.0  \n",
            "17       0.0       880.0  \n",
            "18       0.0       110.0  \n",
            "19       0.1       972.0  \n",
            "20       NaN         NaN  \n"
          ]
        }
      ]
    },
    {
      "cell_type": "code",
      "source": [
        "# Step 4: Show last 3 rows\n",
        "print(df.tail(3))"
      ],
      "metadata": {
        "colab": {
          "base_uri": "https://localhost:8080/"
        },
        "id": "cK5pSbcH2U1R",
        "outputId": "db8c4910-2868-48c3-82a3-b15c7d8a9df1"
      },
      "execution_count": 14,
      "outputs": [
        {
          "output_type": "stream",
          "name": "stdout",
          "text": [
            "    OrderID  Product     Category  Quantity  Price Customer Region  Total  \\\n",
            "18     1019  Printer  Electronics         1    110    Sarah   East    110   \n",
            "19     1020    Chair    Furniture         6    180      Tom   West   1080   \n",
            "20     1021   Tablet  Electronics         2    450   Victor   East    900   \n",
            "\n",
            "    Discount  FinalTotal  \n",
            "18       0.0       110.0  \n",
            "19       0.1       972.0  \n",
            "20       NaN         NaN  \n"
          ]
        }
      ]
    },
    {
      "cell_type": "markdown",
      "source": [
        "# Updating my GitHub Numbers 1-3"
      ],
      "metadata": {
        "id": "GQcI52NlR52u"
      }
    },
    {
      "cell_type": "code",
      "source": [
        "# Save my current notebook file into the repo folder\n",
        "!cp \"/content/Technical - 2.ipynb\" \"/content/dataframe-exercise/Technical - 2.ipynb\"\n"
      ],
      "metadata": {
        "colab": {
          "base_uri": "https://localhost:8080/"
        },
        "id": "bE_mPrMtSAt0",
        "outputId": "68ee0d76-c82b-4470-fb09-03a000a19371"
      },
      "execution_count": null,
      "outputs": [
        {
          "output_type": "stream",
          "name": "stdout",
          "text": [
            "cp: cannot stat '/content/Technical - 2.ipynb': No such file or directory\n"
          ]
        }
      ]
    },
    {
      "cell_type": "code",
      "source": [
        "from google.colab import drive\n",
        "drive.mount('/content/drive')\n"
      ],
      "metadata": {
        "colab": {
          "base_uri": "https://localhost:8080/"
        },
        "id": "22CpmFkvUMZG",
        "outputId": "d4b1feb9-3d0e-4252-9a2c-6864e4689789"
      },
      "execution_count": null,
      "outputs": [
        {
          "output_type": "stream",
          "name": "stdout",
          "text": [
            "Mounted at /content/drive\n"
          ]
        }
      ]
    },
    {
      "cell_type": "markdown",
      "source": [
        "# **Numbers 4-7**\n"
      ],
      "metadata": {
        "id": "hkZdyOn8jED4"
      }
    },
    {
      "cell_type": "markdown",
      "source": [
        "# Number 4"
      ],
      "metadata": {
        "id": "laxu742akyGn"
      }
    },
    {
      "cell_type": "code",
      "source": [
        "print(df)\n"
      ],
      "metadata": {
        "colab": {
          "base_uri": "https://localhost:8080/"
        },
        "id": "lZGDGJ50jGpY",
        "outputId": "0909da26-c700-40fd-c1eb-733d265eca57"
      },
      "execution_count": 15,
      "outputs": [
        {
          "output_type": "stream",
          "name": "stdout",
          "text": [
            "    OrderID     Product     Category  Quantity  Price Customer Region  Total  \\\n",
            "0      1001      Laptop  Electronics         2    800    Alice  North   1600   \n",
            "1      1002       Mouse  Accessories         5     20      Bob  South    100   \n",
            "2      1003    Keyboard  Accessories         3     50  Charlie   East    150   \n",
            "3      1004     Monitor  Electronics         4    200    Diana   West    800   \n",
            "4      1005      Laptop  Electronics         1    850    Ethan  North    850   \n",
            "5      1006  Headphones  Accessories         6     40    Fiona  South    240   \n",
            "6      1007       Mouse  Accessories        10     25   George   East    250   \n",
            "7      1008       Chair    Furniture         2    150   Hannah   West    300   \n",
            "8      1009        Desk    Furniture         1    300      Ian  North    300   \n",
            "9      1010      Laptop  Electronics         3    900     Jane  South   2700   \n",
            "10     1011     Printer  Electronics         2    120     Kyle   East    240   \n",
            "11     1012    Keyboard  Accessories         4     55    Laura   West    220   \n",
            "12     1013     Monitor  Electronics         2    250     Mike  North    500   \n",
            "13     1014       Mouse  Accessories         7     20     Nina  South    140   \n",
            "14     1015      Laptop  Electronics         5    750    Oscar   East   3750   \n",
            "15     1016  Headphones  Accessories         3     35     Paul   West    105   \n",
            "16     1017        Desk    Furniture         2    280    Queen  North    560   \n",
            "17     1018     Monitor  Electronics         4    220   Robert  South    880   \n",
            "18     1019     Printer  Electronics         1    110    Sarah   East    110   \n",
            "19     1020       Chair    Furniture         6    180      Tom   West   1080   \n",
            "20     1021      Tablet  Electronics         2    450   Victor   East    900   \n",
            "\n",
            "    Discount  FinalTotal  \n",
            "0        0.0      1600.0  \n",
            "1        0.1        90.0  \n",
            "2        0.0       150.0  \n",
            "3        0.0       800.0  \n",
            "4        0.0       850.0  \n",
            "5        0.1       216.0  \n",
            "6        0.1       225.0  \n",
            "7        0.0       300.0  \n",
            "8        0.0       300.0  \n",
            "9        0.0      2700.0  \n",
            "10       0.0       240.0  \n",
            "11       0.0       220.0  \n",
            "12       0.0       500.0  \n",
            "13       0.1       126.0  \n",
            "14       0.1      3375.0  \n",
            "15       0.0       105.0  \n",
            "16       0.0       560.0  \n",
            "17       0.0       880.0  \n",
            "18       0.0       110.0  \n",
            "19       0.1       972.0  \n",
            "20       NaN         NaN  \n"
          ]
        }
      ]
    },
    {
      "cell_type": "code",
      "source": [
        "# Step 1: Update price of Mouse products to 30\n",
        "df.loc[df[\"Product\"] == \"Mouse\", \"Price\"] = 30\n",
        "print(df)"
      ],
      "metadata": {
        "colab": {
          "base_uri": "https://localhost:8080/"
        },
        "id": "u-qsC_1JjkVA",
        "outputId": "01ab2f4b-9267-4f03-f258-3710b93c9ecf"
      },
      "execution_count": 16,
      "outputs": [
        {
          "output_type": "stream",
          "name": "stdout",
          "text": [
            "    OrderID     Product     Category  Quantity  Price Customer Region  Total  \\\n",
            "0      1001      Laptop  Electronics         2    800    Alice  North   1600   \n",
            "1      1002       Mouse  Accessories         5     30      Bob  South    100   \n",
            "2      1003    Keyboard  Accessories         3     50  Charlie   East    150   \n",
            "3      1004     Monitor  Electronics         4    200    Diana   West    800   \n",
            "4      1005      Laptop  Electronics         1    850    Ethan  North    850   \n",
            "5      1006  Headphones  Accessories         6     40    Fiona  South    240   \n",
            "6      1007       Mouse  Accessories        10     30   George   East    250   \n",
            "7      1008       Chair    Furniture         2    150   Hannah   West    300   \n",
            "8      1009        Desk    Furniture         1    300      Ian  North    300   \n",
            "9      1010      Laptop  Electronics         3    900     Jane  South   2700   \n",
            "10     1011     Printer  Electronics         2    120     Kyle   East    240   \n",
            "11     1012    Keyboard  Accessories         4     55    Laura   West    220   \n",
            "12     1013     Monitor  Electronics         2    250     Mike  North    500   \n",
            "13     1014       Mouse  Accessories         7     30     Nina  South    140   \n",
            "14     1015      Laptop  Electronics         5    750    Oscar   East   3750   \n",
            "15     1016  Headphones  Accessories         3     35     Paul   West    105   \n",
            "16     1017        Desk    Furniture         2    280    Queen  North    560   \n",
            "17     1018     Monitor  Electronics         4    220   Robert  South    880   \n",
            "18     1019     Printer  Electronics         1    110    Sarah   East    110   \n",
            "19     1020       Chair    Furniture         6    180      Tom   West   1080   \n",
            "20     1021      Tablet  Electronics         2    450   Victor   East    900   \n",
            "\n",
            "    Discount  FinalTotal  \n",
            "0        0.0      1600.0  \n",
            "1        0.1        90.0  \n",
            "2        0.0       150.0  \n",
            "3        0.0       800.0  \n",
            "4        0.0       850.0  \n",
            "5        0.1       216.0  \n",
            "6        0.1       225.0  \n",
            "7        0.0       300.0  \n",
            "8        0.0       300.0  \n",
            "9        0.0      2700.0  \n",
            "10       0.0       240.0  \n",
            "11       0.0       220.0  \n",
            "12       0.0       500.0  \n",
            "13       0.1       126.0  \n",
            "14       0.1      3375.0  \n",
            "15       0.0       105.0  \n",
            "16       0.0       560.0  \n",
            "17       0.0       880.0  \n",
            "18       0.0       110.0  \n",
            "19       0.1       972.0  \n",
            "20       NaN         NaN  \n"
          ]
        }
      ]
    },
    {
      "cell_type": "code",
      "source": [
        "# Step 2: Recalculate Total for affected rows\n",
        "df[\"Total\"] = df[\"Quantity\"] * df[\"Price\"]\n",
        "print(df)"
      ],
      "metadata": {
        "colab": {
          "base_uri": "https://localhost:8080/"
        },
        "id": "qEtcLo41kH_u",
        "outputId": "8175bc9a-9ea7-4f0b-a2e3-ebbb6b2bf1e9"
      },
      "execution_count": 17,
      "outputs": [
        {
          "output_type": "stream",
          "name": "stdout",
          "text": [
            "    OrderID     Product     Category  Quantity  Price Customer Region  Total  \\\n",
            "0      1001      Laptop  Electronics         2    800    Alice  North   1600   \n",
            "1      1002       Mouse  Accessories         5     30      Bob  South    150   \n",
            "2      1003    Keyboard  Accessories         3     50  Charlie   East    150   \n",
            "3      1004     Monitor  Electronics         4    200    Diana   West    800   \n",
            "4      1005      Laptop  Electronics         1    850    Ethan  North    850   \n",
            "5      1006  Headphones  Accessories         6     40    Fiona  South    240   \n",
            "6      1007       Mouse  Accessories        10     30   George   East    300   \n",
            "7      1008       Chair    Furniture         2    150   Hannah   West    300   \n",
            "8      1009        Desk    Furniture         1    300      Ian  North    300   \n",
            "9      1010      Laptop  Electronics         3    900     Jane  South   2700   \n",
            "10     1011     Printer  Electronics         2    120     Kyle   East    240   \n",
            "11     1012    Keyboard  Accessories         4     55    Laura   West    220   \n",
            "12     1013     Monitor  Electronics         2    250     Mike  North    500   \n",
            "13     1014       Mouse  Accessories         7     30     Nina  South    210   \n",
            "14     1015      Laptop  Electronics         5    750    Oscar   East   3750   \n",
            "15     1016  Headphones  Accessories         3     35     Paul   West    105   \n",
            "16     1017        Desk    Furniture         2    280    Queen  North    560   \n",
            "17     1018     Monitor  Electronics         4    220   Robert  South    880   \n",
            "18     1019     Printer  Electronics         1    110    Sarah   East    110   \n",
            "19     1020       Chair    Furniture         6    180      Tom   West   1080   \n",
            "20     1021      Tablet  Electronics         2    450   Victor   East    900   \n",
            "\n",
            "    Discount  FinalTotal  \n",
            "0        0.0      1600.0  \n",
            "1        0.1        90.0  \n",
            "2        0.0       150.0  \n",
            "3        0.0       800.0  \n",
            "4        0.0       850.0  \n",
            "5        0.1       216.0  \n",
            "6        0.1       225.0  \n",
            "7        0.0       300.0  \n",
            "8        0.0       300.0  \n",
            "9        0.0      2700.0  \n",
            "10       0.0       240.0  \n",
            "11       0.0       220.0  \n",
            "12       0.0       500.0  \n",
            "13       0.1       126.0  \n",
            "14       0.1      3375.0  \n",
            "15       0.0       105.0  \n",
            "16       0.0       560.0  \n",
            "17       0.0       880.0  \n",
            "18       0.0       110.0  \n",
            "19       0.1       972.0  \n",
            "20       NaN         NaN  \n"
          ]
        }
      ]
    },
    {
      "cell_type": "code",
      "source": [
        "# Step 3: Show only Mouse rows\n",
        "print(df[df[\"Product\"] == \"Mouse\"])"
      ],
      "metadata": {
        "colab": {
          "base_uri": "https://localhost:8080/"
        },
        "id": "KfYX1C73kkM-",
        "outputId": "fcfc5fe4-101c-4665-e1fe-11d711fe64c5"
      },
      "execution_count": 18,
      "outputs": [
        {
          "output_type": "stream",
          "name": "stdout",
          "text": [
            "    OrderID Product     Category  Quantity  Price Customer Region  Total  \\\n",
            "1      1002   Mouse  Accessories         5     30      Bob  South    150   \n",
            "6      1007   Mouse  Accessories        10     30   George   East    300   \n",
            "13     1014   Mouse  Accessories         7     30     Nina  South    210   \n",
            "\n",
            "    Discount  FinalTotal  \n",
            "1        0.1        90.0  \n",
            "6        0.1       225.0  \n",
            "13       0.1       126.0  \n"
          ]
        }
      ]
    },
    {
      "cell_type": "markdown",
      "source": [
        "#Number 5\n"
      ],
      "metadata": {
        "id": "CGbx-YWBk1Re"
      }
    },
    {
      "cell_type": "code",
      "source": [
        "# Step 1: Drop Discount column\n",
        "df = df.drop(columns=['Discount'])\n",
        "print(df)"
      ],
      "metadata": {
        "colab": {
          "base_uri": "https://localhost:8080/"
        },
        "id": "yKbmvgZTk2eO",
        "outputId": "96b6492a-7c4e-4034-9d5f-6a7969067ac4"
      },
      "execution_count": 19,
      "outputs": [
        {
          "output_type": "stream",
          "name": "stdout",
          "text": [
            "    OrderID     Product     Category  Quantity  Price Customer Region  Total  \\\n",
            "0      1001      Laptop  Electronics         2    800    Alice  North   1600   \n",
            "1      1002       Mouse  Accessories         5     30      Bob  South    150   \n",
            "2      1003    Keyboard  Accessories         3     50  Charlie   East    150   \n",
            "3      1004     Monitor  Electronics         4    200    Diana   West    800   \n",
            "4      1005      Laptop  Electronics         1    850    Ethan  North    850   \n",
            "5      1006  Headphones  Accessories         6     40    Fiona  South    240   \n",
            "6      1007       Mouse  Accessories        10     30   George   East    300   \n",
            "7      1008       Chair    Furniture         2    150   Hannah   West    300   \n",
            "8      1009        Desk    Furniture         1    300      Ian  North    300   \n",
            "9      1010      Laptop  Electronics         3    900     Jane  South   2700   \n",
            "10     1011     Printer  Electronics         2    120     Kyle   East    240   \n",
            "11     1012    Keyboard  Accessories         4     55    Laura   West    220   \n",
            "12     1013     Monitor  Electronics         2    250     Mike  North    500   \n",
            "13     1014       Mouse  Accessories         7     30     Nina  South    210   \n",
            "14     1015      Laptop  Electronics         5    750    Oscar   East   3750   \n",
            "15     1016  Headphones  Accessories         3     35     Paul   West    105   \n",
            "16     1017        Desk    Furniture         2    280    Queen  North    560   \n",
            "17     1018     Monitor  Electronics         4    220   Robert  South    880   \n",
            "18     1019     Printer  Electronics         1    110    Sarah   East    110   \n",
            "19     1020       Chair    Furniture         6    180      Tom   West   1080   \n",
            "20     1021      Tablet  Electronics         2    450   Victor   East    900   \n",
            "\n",
            "    FinalTotal  \n",
            "0       1600.0  \n",
            "1         90.0  \n",
            "2        150.0  \n",
            "3        800.0  \n",
            "4        850.0  \n",
            "5        216.0  \n",
            "6        225.0  \n",
            "7        300.0  \n",
            "8        300.0  \n",
            "9       2700.0  \n",
            "10       240.0  \n",
            "11       220.0  \n",
            "12       500.0  \n",
            "13       126.0  \n",
            "14      3375.0  \n",
            "15       105.0  \n",
            "16       560.0  \n",
            "17       880.0  \n",
            "18       110.0  \n",
            "19       972.0  \n",
            "20         NaN  \n"
          ]
        }
      ]
    },
    {
      "cell_type": "code",
      "source": [
        "# Step 2: Drop FinalTotal column\n",
        "df = df.drop(columns=['FinalTotal'])\n",
        "print(df)"
      ],
      "metadata": {
        "colab": {
          "base_uri": "https://localhost:8080/"
        },
        "id": "ld1IeWuMlW-G",
        "outputId": "e741ce11-d4d3-4e45-c275-d1296e3d29b4"
      },
      "execution_count": 20,
      "outputs": [
        {
          "output_type": "stream",
          "name": "stdout",
          "text": [
            "    OrderID     Product     Category  Quantity  Price Customer Region  Total\n",
            "0      1001      Laptop  Electronics         2    800    Alice  North   1600\n",
            "1      1002       Mouse  Accessories         5     30      Bob  South    150\n",
            "2      1003    Keyboard  Accessories         3     50  Charlie   East    150\n",
            "3      1004     Monitor  Electronics         4    200    Diana   West    800\n",
            "4      1005      Laptop  Electronics         1    850    Ethan  North    850\n",
            "5      1006  Headphones  Accessories         6     40    Fiona  South    240\n",
            "6      1007       Mouse  Accessories        10     30   George   East    300\n",
            "7      1008       Chair    Furniture         2    150   Hannah   West    300\n",
            "8      1009        Desk    Furniture         1    300      Ian  North    300\n",
            "9      1010      Laptop  Electronics         3    900     Jane  South   2700\n",
            "10     1011     Printer  Electronics         2    120     Kyle   East    240\n",
            "11     1012    Keyboard  Accessories         4     55    Laura   West    220\n",
            "12     1013     Monitor  Electronics         2    250     Mike  North    500\n",
            "13     1014       Mouse  Accessories         7     30     Nina  South    210\n",
            "14     1015      Laptop  Electronics         5    750    Oscar   East   3750\n",
            "15     1016  Headphones  Accessories         3     35     Paul   West    105\n",
            "16     1017        Desk    Furniture         2    280    Queen  North    560\n",
            "17     1018     Monitor  Electronics         4    220   Robert  South    880\n",
            "18     1019     Printer  Electronics         1    110    Sarah   East    110\n",
            "19     1020       Chair    Furniture         6    180      Tom   West   1080\n",
            "20     1021      Tablet  Electronics         2    450   Victor   East    900\n"
          ]
        }
      ]
    },
    {
      "cell_type": "code",
      "source": [
        "# Step 3: Show updated DataFrame\n",
        "print(df.head(21))\n"
      ],
      "metadata": {
        "colab": {
          "base_uri": "https://localhost:8080/"
        },
        "id": "pR0QIHdqlbdV",
        "outputId": "1fd0a345-307a-498d-d68a-d3d3146a04f4"
      },
      "execution_count": 23,
      "outputs": [
        {
          "output_type": "stream",
          "name": "stdout",
          "text": [
            "    OrderID     Product     Category  Quantity  Price Customer Region  Total\n",
            "0      1001      Laptop  Electronics         2    800    Alice  North   1600\n",
            "1      1002       Mouse  Accessories         5     30      Bob  South    150\n",
            "2      1003    Keyboard  Accessories         3     50  Charlie   East    150\n",
            "3      1004     Monitor  Electronics         4    200    Diana   West    800\n",
            "4      1005      Laptop  Electronics         1    850    Ethan  North    850\n",
            "5      1006  Headphones  Accessories         6     40    Fiona  South    240\n",
            "6      1007       Mouse  Accessories        10     30   George   East    300\n",
            "7      1008       Chair    Furniture         2    150   Hannah   West    300\n",
            "8      1009        Desk    Furniture         1    300      Ian  North    300\n",
            "9      1010      Laptop  Electronics         3    900     Jane  South   2700\n",
            "10     1011     Printer  Electronics         2    120     Kyle   East    240\n",
            "11     1012    Keyboard  Accessories         4     55    Laura   West    220\n",
            "12     1013     Monitor  Electronics         2    250     Mike  North    500\n",
            "13     1014       Mouse  Accessories         7     30     Nina  South    210\n",
            "14     1015      Laptop  Electronics         5    750    Oscar   East   3750\n",
            "15     1016  Headphones  Accessories         3     35     Paul   West    105\n",
            "16     1017        Desk    Furniture         2    280    Queen  North    560\n",
            "17     1018     Monitor  Electronics         4    220   Robert  South    880\n",
            "18     1019     Printer  Electronics         1    110    Sarah   East    110\n",
            "19     1020       Chair    Furniture         6    180      Tom   West   1080\n",
            "20     1021      Tablet  Electronics         2    450   Victor   East    900\n"
          ]
        }
      ]
    },
    {
      "cell_type": "markdown",
      "source": [
        "#Number 6\n"
      ],
      "metadata": {
        "id": "7a7mfP_imgws"
      }
    },
    {
      "cell_type": "code",
      "source": [
        "# Step 1: Drop row with OrderID = 1010\n",
        "df = df.drop(df[df[\"OrderID\"] == 1010].index, axis=0)\n",
        "print(df)"
      ],
      "metadata": {
        "colab": {
          "base_uri": "https://localhost:8080/"
        },
        "id": "B5EVqh1kmhyk",
        "outputId": "c3b006f9-63ce-4c9f-9487-30eae68d09c2"
      },
      "execution_count": 24,
      "outputs": [
        {
          "output_type": "stream",
          "name": "stdout",
          "text": [
            "    OrderID     Product     Category  Quantity  Price Customer Region  Total\n",
            "0      1001      Laptop  Electronics         2    800    Alice  North   1600\n",
            "1      1002       Mouse  Accessories         5     30      Bob  South    150\n",
            "2      1003    Keyboard  Accessories         3     50  Charlie   East    150\n",
            "3      1004     Monitor  Electronics         4    200    Diana   West    800\n",
            "4      1005      Laptop  Electronics         1    850    Ethan  North    850\n",
            "5      1006  Headphones  Accessories         6     40    Fiona  South    240\n",
            "6      1007       Mouse  Accessories        10     30   George   East    300\n",
            "7      1008       Chair    Furniture         2    150   Hannah   West    300\n",
            "8      1009        Desk    Furniture         1    300      Ian  North    300\n",
            "10     1011     Printer  Electronics         2    120     Kyle   East    240\n",
            "11     1012    Keyboard  Accessories         4     55    Laura   West    220\n",
            "12     1013     Monitor  Electronics         2    250     Mike  North    500\n",
            "13     1014       Mouse  Accessories         7     30     Nina  South    210\n",
            "14     1015      Laptop  Electronics         5    750    Oscar   East   3750\n",
            "15     1016  Headphones  Accessories         3     35     Paul   West    105\n",
            "16     1017        Desk    Furniture         2    280    Queen  North    560\n",
            "17     1018     Monitor  Electronics         4    220   Robert  South    880\n",
            "18     1019     Printer  Electronics         1    110    Sarah   East    110\n",
            "19     1020       Chair    Furniture         6    180      Tom   West   1080\n",
            "20     1021      Tablet  Electronics         2    450   Victor   East    900\n"
          ]
        }
      ]
    },
    {
      "cell_type": "code",
      "source": [
        "# Step 2: Drop the first row by index\n",
        "df = df.drop(index=0)\n",
        "print(df)"
      ],
      "metadata": {
        "colab": {
          "base_uri": "https://localhost:8080/"
        },
        "id": "E-oxMZESsJPs",
        "outputId": "5609890d-2fdc-46b9-94c8-84482538e324"
      },
      "execution_count": 25,
      "outputs": [
        {
          "output_type": "stream",
          "name": "stdout",
          "text": [
            "    OrderID     Product     Category  Quantity  Price Customer Region  Total\n",
            "1      1002       Mouse  Accessories         5     30      Bob  South    150\n",
            "2      1003    Keyboard  Accessories         3     50  Charlie   East    150\n",
            "3      1004     Monitor  Electronics         4    200    Diana   West    800\n",
            "4      1005      Laptop  Electronics         1    850    Ethan  North    850\n",
            "5      1006  Headphones  Accessories         6     40    Fiona  South    240\n",
            "6      1007       Mouse  Accessories        10     30   George   East    300\n",
            "7      1008       Chair    Furniture         2    150   Hannah   West    300\n",
            "8      1009        Desk    Furniture         1    300      Ian  North    300\n",
            "10     1011     Printer  Electronics         2    120     Kyle   East    240\n",
            "11     1012    Keyboard  Accessories         4     55    Laura   West    220\n",
            "12     1013     Monitor  Electronics         2    250     Mike  North    500\n",
            "13     1014       Mouse  Accessories         7     30     Nina  South    210\n",
            "14     1015      Laptop  Electronics         5    750    Oscar   East   3750\n",
            "15     1016  Headphones  Accessories         3     35     Paul   West    105\n",
            "16     1017        Desk    Furniture         2    280    Queen  North    560\n",
            "17     1018     Monitor  Electronics         4    220   Robert  South    880\n",
            "18     1019     Printer  Electronics         1    110    Sarah   East    110\n",
            "19     1020       Chair    Furniture         6    180      Tom   West   1080\n",
            "20     1021      Tablet  Electronics         2    450   Victor   East    900\n"
          ]
        }
      ]
    },
    {
      "cell_type": "code",
      "source": [
        "# Step 3: Print new shape\n",
        "print(\"New shape:\", df.shape)"
      ],
      "metadata": {
        "colab": {
          "base_uri": "https://localhost:8080/"
        },
        "id": "edn2fnm-shvK",
        "outputId": "e998e832-d2f3-4e31-8d8c-6cf6e752acca"
      },
      "execution_count": 26,
      "outputs": [
        {
          "output_type": "stream",
          "name": "stdout",
          "text": [
            "New shape: (19, 8)\n"
          ]
        }
      ]
    },
    {
      "cell_type": "markdown",
      "source": [
        "#Number 7\n"
      ],
      "metadata": {
        "id": "M-oXfwrHxxCW"
      }
    },
    {
      "cell_type": "code",
      "source": [
        "# Step 1: Electronics with Quantity >= 3\n",
        "result1 = df[(df[\"Category\"] == \"Electronics\") & (df[\"Quantity\"] >= 3)]\n",
        "print(result1)"
      ],
      "metadata": {
        "colab": {
          "base_uri": "https://localhost:8080/"
        },
        "id": "ZgA4SJSuxyv1",
        "outputId": "eded0136-418d-4cc0-bbff-4a7aba097503"
      },
      "execution_count": 27,
      "outputs": [
        {
          "output_type": "stream",
          "name": "stdout",
          "text": [
            "    OrderID  Product     Category  Quantity  Price Customer Region  Total\n",
            "3      1004  Monitor  Electronics         4    200    Diana   West    800\n",
            "14     1015   Laptop  Electronics         5    750    Oscar   East   3750\n",
            "17     1018  Monitor  Electronics         4    220   Robert  South    880\n"
          ]
        }
      ]
    },
    {
      "cell_type": "code",
      "metadata": {
        "colab": {
          "base_uri": "https://localhost:8080/"
        },
        "id": "7ba0d33f",
        "outputId": "4f220e65-1b52-4bac-97cd-05b542e4f008"
      },
      "source": [
        "# Step 2: Products with Price > 500\n",
        "result2 = df[df[\"Price\"] > 500]\n",
        "print(result2)"
      ],
      "execution_count": 28,
      "outputs": [
        {
          "output_type": "stream",
          "name": "stdout",
          "text": [
            "    OrderID Product     Category  Quantity  Price Customer Region  Total\n",
            "4      1005  Laptop  Electronics         1    850    Ethan  North    850\n",
            "14     1015  Laptop  Electronics         5    750    Oscar   East   3750\n"
          ]
        }
      ]
    },
    {
      "cell_type": "code",
      "source": [
        "# Step 3: Count orders from North region\n",
        "count_north = df[df[\"Region\"] == \"North\"].shape[0]\n",
        "print(\"North orders:\", count_north)"
      ],
      "metadata": {
        "colab": {
          "base_uri": "https://localhost:8080/"
        },
        "id": "P3j_X03tx45_",
        "outputId": "274abf94-9aae-4b0f-e5a7-3f21b3411665"
      },
      "execution_count": 29,
      "outputs": [
        {
          "output_type": "stream",
          "name": "stdout",
          "text": [
            "North orders: 4\n"
          ]
        }
      ]
    },
    {
      "cell_type": "markdown",
      "source": [
        "# **Numbers 8-10**\n"
      ],
      "metadata": {
        "id": "2-JfdOV-23ic"
      }
    },
    {
      "cell_type": "markdown",
      "source": [
        "# Number 8\n"
      ],
      "metadata": {
        "id": "ss5Bd1uW37vR"
      }
    },
    {
      "cell_type": "code",
      "source": [
        "# Step 1: Sales in West region\n",
        "west_sales = df[df[\"Region\"] == \"West\"]\n",
        "print(west_sales)"
      ],
      "metadata": {
        "colab": {
          "base_uri": "https://localhost:8080/"
        },
        "id": "9dJ6okIo7Uhp",
        "outputId": "15779709-5304-425e-8c8b-f7f5093f7fb3"
      },
      "execution_count": 30,
      "outputs": [
        {
          "output_type": "stream",
          "name": "stdout",
          "text": [
            "    OrderID     Product     Category  Quantity  Price Customer Region  Total\n",
            "3      1004     Monitor  Electronics         4    200    Diana   West    800\n",
            "7      1008       Chair    Furniture         2    150   Hannah   West    300\n",
            "11     1012    Keyboard  Accessories         4     55    Laura   West    220\n",
            "15     1016  Headphones  Accessories         3     35     Paul   West    105\n",
            "19     1020       Chair    Furniture         6    180      Tom   West   1080\n"
          ]
        }
      ]
    },
    {
      "cell_type": "code",
      "metadata": {
        "colab": {
          "base_uri": "https://localhost:8080/"
        },
        "id": "79ad074e",
        "outputId": "b6e3489f-3083-43d5-b3b2-093af5f59e43"
      },
      "source": [
        "# Step 2: Sales by Alice\n",
        "alice_sales = df[df[\"Customer\"] == \"Alice\"]\n",
        "print(alice_sales)"
      ],
      "execution_count": 31,
      "outputs": [
        {
          "output_type": "stream",
          "name": "stdout",
          "text": [
            "Empty DataFrame\n",
            "Columns: [OrderID, Product, Category, Quantity, Price, Customer, Region, Total]\n",
            "Index: []\n"
          ]
        }
      ]
    },
    {
      "cell_type": "code",
      "metadata": {
        "colab": {
          "base_uri": "https://localhost:8080/"
        },
        "id": "7e6450eb",
        "outputId": "756c9c63-594c-4cb2-8656-f11c4942e82c"
      },
      "source": [
        "# Step 3: Sales of Laptop or Printer\n",
        "subset_sales = df[df[\"Product\"].isin([\"Laptop\", \"Printer\"])]\n",
        "print(subset_sales)"
      ],
      "execution_count": 32,
      "outputs": [
        {
          "output_type": "stream",
          "name": "stdout",
          "text": [
            "    OrderID  Product     Category  Quantity  Price Customer Region  Total\n",
            "4      1005   Laptop  Electronics         1    850    Ethan  North    850\n",
            "10     1011  Printer  Electronics         2    120     Kyle   East    240\n",
            "14     1015   Laptop  Electronics         5    750    Oscar   East   3750\n",
            "18     1019  Printer  Electronics         1    110    Sarah   East    110\n"
          ]
        }
      ]
    },
    {
      "cell_type": "markdown",
      "source": [
        "#Number 9"
      ],
      "metadata": {
        "id": "dEwC0_2q8HQB"
      }
    },
    {
      "cell_type": "code",
      "source": [
        "# Step 1: Increase Price of Furniture by 10%\n",
        "df.loc[df[\"Category\"] == \"Furniture\", \"Price\"] *= 1.10\n",
        "print(df)"
      ],
      "metadata": {
        "colab": {
          "base_uri": "https://localhost:8080/"
        },
        "id": "k0gh_qAe8QYn",
        "outputId": "547be534-bc70-45f7-fd9f-d0eaa56479b1"
      },
      "execution_count": 33,
      "outputs": [
        {
          "output_type": "stream",
          "name": "stdout",
          "text": [
            "    OrderID     Product     Category  Quantity  Price Customer Region  Total\n",
            "1      1002       Mouse  Accessories         5   30.0      Bob  South    150\n",
            "2      1003    Keyboard  Accessories         3   50.0  Charlie   East    150\n",
            "3      1004     Monitor  Electronics         4  200.0    Diana   West    800\n",
            "4      1005      Laptop  Electronics         1  850.0    Ethan  North    850\n",
            "5      1006  Headphones  Accessories         6   40.0    Fiona  South    240\n",
            "6      1007       Mouse  Accessories        10   30.0   George   East    300\n",
            "7      1008       Chair    Furniture         2  165.0   Hannah   West    300\n",
            "8      1009        Desk    Furniture         1  330.0      Ian  North    300\n",
            "10     1011     Printer  Electronics         2  120.0     Kyle   East    240\n",
            "11     1012    Keyboard  Accessories         4   55.0    Laura   West    220\n",
            "12     1013     Monitor  Electronics         2  250.0     Mike  North    500\n",
            "13     1014       Mouse  Accessories         7   30.0     Nina  South    210\n",
            "14     1015      Laptop  Electronics         5  750.0    Oscar   East   3750\n",
            "15     1016  Headphones  Accessories         3   35.0     Paul   West    105\n",
            "16     1017        Desk    Furniture         2  308.0    Queen  North    560\n",
            "17     1018     Monitor  Electronics         4  220.0   Robert  South    880\n",
            "18     1019     Printer  Electronics         1  110.0    Sarah   East    110\n",
            "19     1020       Chair    Furniture         6  198.0      Tom   West   1080\n",
            "20     1021      Tablet  Electronics         2  450.0   Victor   East    900\n"
          ]
        },
        {
          "output_type": "stream",
          "name": "stderr",
          "text": [
            "/tmp/ipython-input-4086544041.py:2: FutureWarning: Setting an item of incompatible dtype is deprecated and will raise an error in a future version of pandas. Value '[165. 330. 308. 198.]' has dtype incompatible with int64, please explicitly cast to a compatible dtype first.\n",
            "  df.loc[df[\"Category\"] == \"Furniture\", \"Price\"] *= 1.10\n"
          ]
        }
      ]
    },
    {
      "cell_type": "code",
      "source": [
        "# Step 2: Recalculate Total\n",
        "df[\"Total\"] = df[\"Quantity\"] * df[\"Price\"]\n",
        "print(df)"
      ],
      "metadata": {
        "colab": {
          "base_uri": "https://localhost:8080/"
        },
        "id": "XYiFkxU78ZMm",
        "outputId": "a6df2a45-7925-4c0f-f0f1-f0716d2c4dfd"
      },
      "execution_count": 34,
      "outputs": [
        {
          "output_type": "stream",
          "name": "stdout",
          "text": [
            "    OrderID     Product     Category  Quantity  Price Customer Region   Total\n",
            "1      1002       Mouse  Accessories         5   30.0      Bob  South   150.0\n",
            "2      1003    Keyboard  Accessories         3   50.0  Charlie   East   150.0\n",
            "3      1004     Monitor  Electronics         4  200.0    Diana   West   800.0\n",
            "4      1005      Laptop  Electronics         1  850.0    Ethan  North   850.0\n",
            "5      1006  Headphones  Accessories         6   40.0    Fiona  South   240.0\n",
            "6      1007       Mouse  Accessories        10   30.0   George   East   300.0\n",
            "7      1008       Chair    Furniture         2  165.0   Hannah   West   330.0\n",
            "8      1009        Desk    Furniture         1  330.0      Ian  North   330.0\n",
            "10     1011     Printer  Electronics         2  120.0     Kyle   East   240.0\n",
            "11     1012    Keyboard  Accessories         4   55.0    Laura   West   220.0\n",
            "12     1013     Monitor  Electronics         2  250.0     Mike  North   500.0\n",
            "13     1014       Mouse  Accessories         7   30.0     Nina  South   210.0\n",
            "14     1015      Laptop  Electronics         5  750.0    Oscar   East  3750.0\n",
            "15     1016  Headphones  Accessories         3   35.0     Paul   West   105.0\n",
            "16     1017        Desk    Furniture         2  308.0    Queen  North   616.0\n",
            "17     1018     Monitor  Electronics         4  220.0   Robert  South   880.0\n",
            "18     1019     Printer  Electronics         1  110.0    Sarah   East   110.0\n",
            "19     1020       Chair    Furniture         6  198.0      Tom   West  1188.0\n",
            "20     1021      Tablet  Electronics         2  450.0   Victor   East   900.0\n"
          ]
        }
      ]
    },
    {
      "cell_type": "code",
      "source": [
        "# Step 3: Show only Furniture rows\n",
        "print(df[df[\"Category\"] == \"Furniture\"])"
      ],
      "metadata": {
        "colab": {
          "base_uri": "https://localhost:8080/"
        },
        "id": "l_obuS2F8dAH",
        "outputId": "e50fd53b-b4ec-4b0e-b278-0d510d5ada4b"
      },
      "execution_count": 35,
      "outputs": [
        {
          "output_type": "stream",
          "name": "stdout",
          "text": [
            "    OrderID Product   Category  Quantity  Price Customer Region   Total\n",
            "7      1008   Chair  Furniture         2  165.0   Hannah   West   330.0\n",
            "8      1009    Desk  Furniture         1  330.0      Ian  North   330.0\n",
            "16     1017    Desk  Furniture         2  308.0    Queen  North   616.0\n",
            "19     1020   Chair  Furniture         6  198.0      Tom   West  1188.0\n"
          ]
        }
      ]
    },
    {
      "cell_type": "markdown",
      "source": [
        "#Number 10"
      ],
      "metadata": {
        "id": "LmFEBiZW-ERG"
      }
    },
    {
      "cell_type": "code",
      "source": [
        "# Step 1: Sort by Total descending\n",
        "sorted_df = df.sort_values(by=\"Total\", ascending=False)\n",
        "print(sorted_df.head(19))"
      ],
      "metadata": {
        "colab": {
          "base_uri": "https://localhost:8080/"
        },
        "id": "m6EW21HM-Ga9",
        "outputId": "2b85851b-62d4-4a3f-a581-341dd3e850a9"
      },
      "execution_count": 40,
      "outputs": [
        {
          "output_type": "stream",
          "name": "stdout",
          "text": [
            "    OrderID     Product     Category  Quantity  Price Customer Region   Total\n",
            "14     1015      Laptop  Electronics         5  750.0    Oscar   East  3750.0\n",
            "19     1020       Chair    Furniture         6  198.0      Tom   West  1188.0\n",
            "20     1021      Tablet  Electronics         2  450.0   Victor   East   900.0\n",
            "17     1018     Monitor  Electronics         4  220.0   Robert  South   880.0\n",
            "4      1005      Laptop  Electronics         1  850.0    Ethan  North   850.0\n",
            "3      1004     Monitor  Electronics         4  200.0    Diana   West   800.0\n",
            "16     1017        Desk    Furniture         2  308.0    Queen  North   616.0\n",
            "12     1013     Monitor  Electronics         2  250.0     Mike  North   500.0\n",
            "8      1009        Desk    Furniture         1  330.0      Ian  North   330.0\n",
            "7      1008       Chair    Furniture         2  165.0   Hannah   West   330.0\n",
            "6      1007       Mouse  Accessories        10   30.0   George   East   300.0\n",
            "5      1006  Headphones  Accessories         6   40.0    Fiona  South   240.0\n",
            "10     1011     Printer  Electronics         2  120.0     Kyle   East   240.0\n",
            "11     1012    Keyboard  Accessories         4   55.0    Laura   West   220.0\n",
            "13     1014       Mouse  Accessories         7   30.0     Nina  South   210.0\n",
            "2      1003    Keyboard  Accessories         3   50.0  Charlie   East   150.0\n",
            "1      1002       Mouse  Accessories         5   30.0      Bob  South   150.0\n",
            "18     1019     Printer  Electronics         1  110.0    Sarah   East   110.0\n",
            "15     1016  Headphones  Accessories         3   35.0     Paul   West   105.0\n"
          ]
        }
      ]
    },
    {
      "cell_type": "code",
      "source": [
        "# Step 2: Show top 5 sales\n",
        "print(sorted_df.head(5))"
      ],
      "metadata": {
        "colab": {
          "base_uri": "https://localhost:8080/"
        },
        "id": "r1Jmghwn-MFF",
        "outputId": "64d32f0c-4241-4059-830f-dd5af8d3863f"
      },
      "execution_count": 41,
      "outputs": [
        {
          "output_type": "stream",
          "name": "stdout",
          "text": [
            "    OrderID  Product     Category  Quantity  Price Customer Region   Total\n",
            "14     1015   Laptop  Electronics         5  750.0    Oscar   East  3750.0\n",
            "19     1020    Chair    Furniture         6  198.0      Tom   West  1188.0\n",
            "20     1021   Tablet  Electronics         2  450.0   Victor   East   900.0\n",
            "17     1018  Monitor  Electronics         4  220.0   Robert  South   880.0\n",
            "4      1005   Laptop  Electronics         1  850.0    Ethan  North   850.0\n"
          ]
        }
      ]
    },
    {
      "cell_type": "code",
      "source": [
        "# Step 3: Multi-level sort (Region then Customer)\n",
        "multi_sort = df.sort_values(by=[\"Region\", \"Customer\"])\n",
        "print(multi_sort.head(19))"
      ],
      "metadata": {
        "colab": {
          "base_uri": "https://localhost:8080/"
        },
        "id": "FS5mOU7Y-PE1",
        "outputId": "1165f446-9846-4d51-fb86-904606e86546"
      },
      "execution_count": 43,
      "outputs": [
        {
          "output_type": "stream",
          "name": "stdout",
          "text": [
            "    OrderID     Product     Category  Quantity  Price Customer Region   Total\n",
            "2      1003    Keyboard  Accessories         3   50.0  Charlie   East   150.0\n",
            "6      1007       Mouse  Accessories        10   30.0   George   East   300.0\n",
            "10     1011     Printer  Electronics         2  120.0     Kyle   East   240.0\n",
            "14     1015      Laptop  Electronics         5  750.0    Oscar   East  3750.0\n",
            "18     1019     Printer  Electronics         1  110.0    Sarah   East   110.0\n",
            "20     1021      Tablet  Electronics         2  450.0   Victor   East   900.0\n",
            "4      1005      Laptop  Electronics         1  850.0    Ethan  North   850.0\n",
            "8      1009        Desk    Furniture         1  330.0      Ian  North   330.0\n",
            "12     1013     Monitor  Electronics         2  250.0     Mike  North   500.0\n",
            "16     1017        Desk    Furniture         2  308.0    Queen  North   616.0\n",
            "1      1002       Mouse  Accessories         5   30.0      Bob  South   150.0\n",
            "5      1006  Headphones  Accessories         6   40.0    Fiona  South   240.0\n",
            "13     1014       Mouse  Accessories         7   30.0     Nina  South   210.0\n",
            "17     1018     Monitor  Electronics         4  220.0   Robert  South   880.0\n",
            "3      1004     Monitor  Electronics         4  200.0    Diana   West   800.0\n",
            "7      1008       Chair    Furniture         2  165.0   Hannah   West   330.0\n",
            "11     1012    Keyboard  Accessories         4   55.0    Laura   West   220.0\n",
            "15     1016  Headphones  Accessories         3   35.0     Paul   West   105.0\n",
            "19     1020       Chair    Furniture         6  198.0      Tom   West  1188.0\n"
          ]
        }
      ]
    }
  ]
}